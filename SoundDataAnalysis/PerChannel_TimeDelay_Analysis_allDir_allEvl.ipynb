{
 "cells": [
  {
   "cell_type": "code",
   "execution_count": 1,
   "id": "4224eb10",
   "metadata": {},
   "outputs": [],
   "source": [
    "# This code analyzes the time delay between the two channels calculated using the GCC-PHAT function\n",
    "# for different directions of the sound source (0 - 360 azimuth angle) and different elevantions (0 to 50 deg)\n",
    "\n",
    "import os\n",
    "import matplotlib.pyplot as plt\n",
    "import numpy as np\n",
    "import librosa\n",
    "import wave\n",
    "import librosa as lr\n",
    "from scipy import signal\n",
    "from scipy.fftpack import fft,fft2, fftshift, ifft\n",
    "import math\n",
    "import matplotlib.pyplot as plt\n",
    "from scipy.interpolate import interp1d\n",
    "from sklearn import preprocessing\n"
   ]
  },
  {
   "cell_type": "code",
   "execution_count": 2,
   "id": "ee5d4fdf",
   "metadata": {},
   "outputs": [],
   "source": [
    "# Computer the time delay between two signals using the Generalized Cross Correlation method: GCC-PHAT\n",
    "def gcc_phat(sig, refsig, fs=1, max_tau=None, interp=16):\n",
    "    \n",
    "    # make sure the length for the FFT is larger or equal than len(sig) + len(refsig)\n",
    "    n = sig.shape[0] + refsig.shape[0]\n",
    "\n",
    "    # Generalized Cross Correlation Phase Transform\n",
    "    SIG = np.fft.rfft(sig, n=n)  # Fourier Transform of sig\n",
    "    REFSIG = np.fft.rfft(refsig, n=n) # Fourier Transform of refsig\n",
    "    R = SIG * np.conj(REFSIG) # Cross Correlation in frequency domain (This is also called the Cross Spectral Density)\n",
    "    \n",
    "    # The formula for GCC-PHAT in time domain is = INVERSE_FOURIER ([(SIG)*conj(REFSIG)]/ [magnitude(SIG)*magnitude(conj(REFSIG))]) \n",
    "    # That is, GCC-PHAT in tme domain = INVERSE_FOURIER(R/magnitide(R))\n",
    "    cc = np.fft.irfft(R / np.abs(R), n=(interp * n)) # GCC-PHAT in time domain\n",
    "\n",
    "    max_shift = int(interp * n / 2)\n",
    "    if max_tau:\n",
    "        max_shift = np.minimum(int(interp * fs * max_tau), max_shift)\n",
    "\n",
    "    cc = np.concatenate((cc[-max_shift:], cc[:max_shift+1]))\n",
    "\n",
    "    # find max cross correlation index\n",
    "    shift = np.argmax(np.abs(cc)) - max_shift\n",
    "    tau = shift / float(interp * fs)\n",
    "    return tau, cc"
   ]
  },
  {
   "cell_type": "code",
   "execution_count": 7,
   "id": "4d94b8c2",
   "metadata": {},
   "outputs": [],
   "source": [
    "#directorySound_content = os.listdir(\"/home/prabhjot/Desktop/SoundData/TroyCenter_LargeConfRoom\")\n",
    "#directorySound = os.fsencode(\"/home/prabhjot/Desktop/SoundData/TroyCenter_LargeConfRoom\")"
   ]
  },
  {
   "cell_type": "code",
   "execution_count": 3,
   "id": "365b913d",
   "metadata": {},
   "outputs": [],
   "source": [
    "directorySound_content = os.listdir(\"/home/prabhjot/Desktop/SoundData/OaklandU_Bridge\")\n",
    "directorySound = os.fsencode(\"/home/prabhjot/Desktop/SoundData/OaklandU_Bridge\")"
   ]
  },
  {
   "cell_type": "code",
   "execution_count": 9,
   "id": "32880b9e",
   "metadata": {},
   "outputs": [
    {
     "name": "stdout",
     "output_type": "stream",
     "text": [
      "[40, 25, 0, 35, 5, 50, 20, 10, 45, 15, 30]\n",
      "[0.00016723356009070296, 0.0001969954648526077, 0.00023100907029478457, 0.00017431972789115646, 0.0002281746031746032, 0.0001417233560090703, 0.00020691609977324264, 0.00022534013605442178, 0.00015589569160997732, 0.00021541950113378684, 0.0001870748299319728]\n",
      "[8.361678004535148e-05, 9.92063492063492e-05, 0.00011196145124716554, 9.070294784580499e-05, 0.00010770975056689342, 7.511337868480725e-05, 9.92063492063492e-05, 0.00010912698412698413, 7.653061224489796e-05, 0.00010345804988662132, 9.77891156462585e-05]\n",
      "[-8.786848072562358e-05, -9.92063492063492e-05, -0.00011763038548752834, -8.361678004535148e-05, -0.00011763038548752834, -7.227891156462585e-05, -0.00010629251700680272, -0.00011479591836734693, -7.511337868480725e-05, -0.00011337868480725624, -9.77891156462585e-05]\n"
     ]
    },
    {
     "data": {
      "text/plain": [
       "<matplotlib.legend.Legend at 0x7fe1b5df0730>"
      ]
     },
     "execution_count": 9,
     "metadata": {},
     "output_type": "execute_result"
    },
    {
     "data": {
      "image/png": "[encoded data removed]",
      "text/plain": [
       "<Figure size 432x288 with 1 Axes>"
      ]
     },
     "metadata": {
      "needs_background": "light"
     },
     "output_type": "display_data"
    }
   ],
   "source": [
    "# For 1 Meter Azimuth 30 (all evelations)\n",
    "\n",
    "#index = directorySound_content.index('1Meter_Elevation3')\n",
    "index = directorySound_content.index('1Meter_Azimuth30_Elevations')\n",
    "\n",
    "\n",
    "#_1MeterFolderPathElv3 = (os.path.join(directorySound.decode(\"utf-8\"),directorySound_content[index] ))\n",
    "_1MeterFolderPathAz30 = (os.path.join(directorySound.decode(\"utf-8\"),directorySound_content[index] ))\n",
    "\n",
    "#_1MeterFolderPathElv3_content = os.listdir(_1MeterFolderPathElv3)\n",
    "_1MeterFolderPathAz30_content = os.listdir(_1MeterFolderPathAz30)\n",
    "\n",
    "Angle = []\n",
    "TimeDelay_ch12 = []\n",
    "TimeDelay_ch13 = []\n",
    "TimeDelay_ch23 = []\n",
    "\n",
    "#for i in range(0,len(_1MeterFolderPathElv3_content)):\n",
    "for i in range(0,len(_1MeterFolderPathAz30_content)):\n",
    "    subdir = (os.path.join(_1MeterFolderPathAz30,_1MeterFolderPathAz30_content[i]))\n",
    "    #print(subdir)\n",
    "    with open(os.path.join(subdir,'angle.txt')) as f:\n",
    "        read_data = f.read()\n",
    "    Angle.append(int(read_data[0:-1]))\n",
    "    \n",
    "    #Read the audio files\n",
    "    ch1, sfreq = lr.load(os.path.join(subdir, 'ch1.wav'), sr=44100)\n",
    "    ch2, sfreq = lr.load(os.path.join(subdir, 'ch2.wav'), sr=44100)\n",
    "    ch3, sfreq = lr.load(os.path.join(subdir, 'ch3.wav'), sr=44100)\n",
    "       \n",
    "    ###### Calculate time delay between channel 1 and channel 2\n",
    "    y1 = ch1\n",
    "    y2 = ch2\n",
    "    tau_gcc_12, cc = gcc_phat(y2,y1,sfreq)\n",
    "    TimeDelay_ch12.append(tau_gcc_12)\n",
    "    \n",
    "    ###### Calcualte time delay between channel 1 and channel 3\n",
    "    y1 = ch1\n",
    "    y2 = ch3\n",
    "    tau_gcc_13, cc = gcc_phat(y2,y1,sfreq)\n",
    "    TimeDelay_ch13.append(tau_gcc_13)\n",
    "    \n",
    "    # Calculate time delay between channel 2 and channel 3\n",
    "    y1 = ch2\n",
    "    y2 = ch3\n",
    "    tau_gcc_23, cc = gcc_phat(y2,y1,sfreq)\n",
    "    TimeDelay_ch23.append(tau_gcc_23)\n",
    "    \n",
    "print(Angle)\n",
    "print(TimeDelay_ch12)\n",
    "print(TimeDelay_ch13)\n",
    "print(TimeDelay_ch23)\n",
    "\n",
    "\n",
    "TimeDelay_ch12_interpolate = interp1d(Angle, TimeDelay_ch12, kind='cubic')\n",
    "Angle_interpolate = np.linspace(0, 50, num=50, endpoint=True)\n",
    "plt.plot(Angle, TimeDelay_ch12, 'bo', Angle_interpolate,TimeDelay_ch12_interpolate(Angle_interpolate), 'b--' , label=\"ch12\")\n",
    "plt.xticks([0,5,100,15,20,25,30,35,40,45,50])   \n",
    "\n",
    "TimeDelay_ch13_interpolate = interp1d(Angle, TimeDelay_ch13, kind='cubic')\n",
    "Angle_interpolate = np.linspace(0, 50, num=50, endpoint=True)\n",
    "plt.plot(Angle, TimeDelay_ch13, 'gs', Angle_interpolate,TimeDelay_ch13_interpolate(Angle_interpolate), 'g--', label = \"ch13\")\n",
    "\n",
    "TimeDelay_ch23_interpolate = interp1d(Angle, TimeDelay_ch23, kind='cubic')\n",
    "Angle_interpolate = np.linspace(0, 50, num=50, endpoint=True)\n",
    "plt.plot(Angle, TimeDelay_ch23, 'r^', Angle_interpolate,TimeDelay_ch23_interpolate(Angle_interpolate), 'r--', label=\"ch23\")\n",
    "\n",
    "plt.xlabel('Elevation angle in degrees')\n",
    "plt.ylabel('Time delay in seconds')\n",
    "plt.title('Time delay analysis for 1 meter distance and 30 degree Azimuth')\n",
    "plt.legend()\n"
   ]
  }
 ],
 "metadata": {
  "kernelspec": {
   "display_name": "Python 3 (ipykernel)",
   "language": "python",
   "name": "python3"
  },
  "language_info": {
   "codemirror_mode": {
    "name": "ipython",
    "version": 3
   },
   "file_extension": ".py",
   "mimetype": "text/x-python",
   "name": "python",
   "nbconvert_exporter": "python",
   "pygments_lexer": "ipython3",
   "version": "3.8.10"
  }
 },
 "nbformat": 4,
 "nbformat_minor": 5
}
